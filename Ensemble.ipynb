{
  "nbformat": 4,
  "nbformat_minor": 0,
  "metadata": {
    "colab": {
      "name": "Ensemble.ipynb",
      "provenance": []
    },
    "kernelspec": {
      "name": "python3",
      "display_name": "Python 3"
    },
    "language_info": {
      "name": "python"
    }
  },
  "cells": [
    {
      "cell_type": "markdown",
      "metadata": {
        "id": "USLlYT5RkQBA"
      },
      "source": [
        "# Importing Libraries"
      ]
    },
    {
      "cell_type": "code",
      "metadata": {
        "id": "xbgyVo_CbJY3"
      },
      "source": [
        "import pandas as pd\n",
        "from sklearn.preprocessing import MinMaxScaler\n",
        "from sklearn.metrics import confusion_matrix\n",
        "from sklearn.metrics import classification_report\n",
        "from sklearn.model_selection import train_test_split\n",
        "from sklearn.ensemble import RandomForestClassifier\n",
        "from sklearn.ensemble import AdaBoostClassifier\n",
        "from sklearn.metrics import accuracy_score"
      ],
      "execution_count": 48,
      "outputs": []
    },
    {
      "cell_type": "markdown",
      "metadata": {
        "id": "ibtLhsAdkTCj"
      },
      "source": [
        "# Data Pre-processing"
      ]
    },
    {
      "cell_type": "code",
      "metadata": {
        "id": "NlynzWTwbW-P"
      },
      "source": [
        "data = pd.read_csv('Social_Network_Ads.csv')"
      ],
      "execution_count": 49,
      "outputs": []
    },
    {
      "cell_type": "code",
      "metadata": {
        "id": "9kad5shobcvY"
      },
      "source": [
        "data['Gender'] =data['Gender'].astype('category')\n",
        "#['Male','Female'] = [1,0]\n",
        "data['Gender'] = data['Gender'].cat.codes"
      ],
      "execution_count": 50,
      "outputs": []
    },
    {
      "cell_type": "code",
      "metadata": {
        "id": "tqUDTR7kb4jI"
      },
      "source": [
        "data = data.drop(['User ID'],axis=1)"
      ],
      "execution_count": 51,
      "outputs": []
    },
    {
      "cell_type": "code",
      "metadata": {
        "colab": {
          "base_uri": "https://localhost:8080/",
          "height": 202
        },
        "id": "wkffS-H7dK8G",
        "outputId": "2bf00352-a9e8-4fd1-e1b9-bdcbc1fee451"
      },
      "source": [
        "# Feature Scaling\n",
        "min_max_scaler = MinMaxScaler()\n",
        "data[['EstimatedSalary']] = min_max_scaler.fit_transform(data[['EstimatedSalary']])\n",
        "data.head()"
      ],
      "execution_count": 52,
      "outputs": [
        {
          "output_type": "execute_result",
          "data": {
            "text/html": [
              "<div>\n",
              "<style scoped>\n",
              "    .dataframe tbody tr th:only-of-type {\n",
              "        vertical-align: middle;\n",
              "    }\n",
              "\n",
              "    .dataframe tbody tr th {\n",
              "        vertical-align: top;\n",
              "    }\n",
              "\n",
              "    .dataframe thead th {\n",
              "        text-align: right;\n",
              "    }\n",
              "</style>\n",
              "<table border=\"1\" class=\"dataframe\">\n",
              "  <thead>\n",
              "    <tr style=\"text-align: right;\">\n",
              "      <th></th>\n",
              "      <th>Gender</th>\n",
              "      <th>Age</th>\n",
              "      <th>EstimatedSalary</th>\n",
              "      <th>Purchased</th>\n",
              "    </tr>\n",
              "  </thead>\n",
              "  <tbody>\n",
              "    <tr>\n",
              "      <th>0</th>\n",
              "      <td>1</td>\n",
              "      <td>19</td>\n",
              "      <td>0.029630</td>\n",
              "      <td>0</td>\n",
              "    </tr>\n",
              "    <tr>\n",
              "      <th>1</th>\n",
              "      <td>1</td>\n",
              "      <td>35</td>\n",
              "      <td>0.037037</td>\n",
              "      <td>0</td>\n",
              "    </tr>\n",
              "    <tr>\n",
              "      <th>2</th>\n",
              "      <td>0</td>\n",
              "      <td>26</td>\n",
              "      <td>0.207407</td>\n",
              "      <td>0</td>\n",
              "    </tr>\n",
              "    <tr>\n",
              "      <th>3</th>\n",
              "      <td>0</td>\n",
              "      <td>27</td>\n",
              "      <td>0.311111</td>\n",
              "      <td>0</td>\n",
              "    </tr>\n",
              "    <tr>\n",
              "      <th>4</th>\n",
              "      <td>1</td>\n",
              "      <td>19</td>\n",
              "      <td>0.451852</td>\n",
              "      <td>0</td>\n",
              "    </tr>\n",
              "  </tbody>\n",
              "</table>\n",
              "</div>"
            ],
            "text/plain": [
              "   Gender  Age  EstimatedSalary  Purchased\n",
              "0       1   19         0.029630          0\n",
              "1       1   35         0.037037          0\n",
              "2       0   26         0.207407          0\n",
              "3       0   27         0.311111          0\n",
              "4       1   19         0.451852          0"
            ]
          },
          "metadata": {
            "tags": []
          },
          "execution_count": 52
        }
      ]
    },
    {
      "cell_type": "code",
      "metadata": {
        "id": "C0Puon-mikIt"
      },
      "source": [
        "X = data.iloc[:, :-1]\n",
        "y = data.iloc[:, -1]"
      ],
      "execution_count": 53,
      "outputs": []
    },
    {
      "cell_type": "code",
      "metadata": {
        "colab": {
          "base_uri": "https://localhost:8080/"
        },
        "id": "r5JDY3dF1Igv",
        "outputId": "7134035b-45c9-4b33-9466-285b2e201f7d"
      },
      "source": [
        "# Splitting the dataset into the Training set and Test set\n",
        "X_train, X_test, y_train, y_test = train_test_split(X, y, test_size = 0.25, random_state = 101)\n",
        "print(X_train.shape)\n",
        "print(y_train.shape)\n",
        "print(X_test.shape)\n",
        "print(y_test.shape)"
      ],
      "execution_count": 54,
      "outputs": [
        {
          "output_type": "stream",
          "text": [
            "(300, 3)\n",
            "(300,)\n",
            "(100, 3)\n",
            "(100,)\n"
          ],
          "name": "stdout"
        }
      ]
    },
    {
      "cell_type": "markdown",
      "metadata": {
        "id": "16haKC3J2yYU"
      },
      "source": [
        "# Random Forest"
      ]
    },
    {
      "cell_type": "markdown",
      "metadata": {
        "id": "6dpMtYIIkVqu"
      },
      "source": [
        "## Training and Testing the data"
      ]
    },
    {
      "cell_type": "code",
      "metadata": {
        "colab": {
          "base_uri": "https://localhost:8080/"
        },
        "id": "DJlU7FQbfY3l",
        "outputId": "8a9e1e53-5bef-4296-d18e-855072fcc337"
      },
      "source": [
        "model = RandomForestClassifier()\n",
        "# fit the model with the training data\n",
        "model.fit(X_train,y_train)\n",
        "# number of trees used\n",
        "print('Number of Trees used : ', model.n_estimators)"
      ],
      "execution_count": 55,
      "outputs": [
        {
          "output_type": "stream",
          "text": [
            "Number of Trees used :  100\n"
          ],
          "name": "stdout"
        }
      ]
    },
    {
      "cell_type": "code",
      "metadata": {
        "id": "G8BTUP6SfpDZ",
        "colab": {
          "base_uri": "https://localhost:8080/"
        },
        "outputId": "19836bc8-796a-4963-b4b0-d75895b3b348"
      },
      "source": [
        "# predict the target on the train dataset\n",
        "predict_train = model.predict(X_train)\n",
        "# Accuray Score on train dataset\n",
        "accuracy_train = accuracy_score(y_train,predict_train)\n",
        "print('\\naccuracy_score on train dataset : ', accuracy_train)\n",
        "\n",
        "# predict the target on the test dataset\n",
        "predict_test = model.predict(X_test)\n",
        "# Accuracy Score on test dataset\n",
        "accuracy_test = accuracy_score(y_test,predict_test)\n",
        "print('\\naccuracy_score on test dataset : ', accuracy_test)\n"
      ],
      "execution_count": 56,
      "outputs": [
        {
          "output_type": "stream",
          "text": [
            "\n",
            "accuracy_score on train dataset :  0.9966666666666667\n",
            "\n",
            "accuracy_score on test dataset :  0.9\n"
          ],
          "name": "stdout"
        }
      ]
    },
    {
      "cell_type": "markdown",
      "metadata": {
        "id": "7zv0yfmGksqg"
      },
      "source": [
        "Predicted Results"
      ]
    },
    {
      "cell_type": "code",
      "metadata": {
        "colab": {
          "base_uri": "https://localhost:8080/"
        },
        "id": "PGxpzcRdgOWU",
        "outputId": "9e0bf5cf-469c-482e-aadc-4f346fe40226"
      },
      "source": [
        "pred = pd.DataFrame(predict_test.tolist())\n",
        "pred.value_counts()"
      ],
      "execution_count": 57,
      "outputs": [
        {
          "output_type": "execute_result",
          "data": {
            "text/plain": [
              "0    57\n",
              "1    43\n",
              "dtype: int64"
            ]
          },
          "metadata": {
            "tags": []
          },
          "execution_count": 57
        }
      ]
    },
    {
      "cell_type": "markdown",
      "metadata": {
        "id": "dc_220sfkvlV"
      },
      "source": [
        "Actual Results"
      ]
    },
    {
      "cell_type": "code",
      "metadata": {
        "id": "LnimvE2egezZ",
        "colab": {
          "base_uri": "https://localhost:8080/"
        },
        "outputId": "e4a4ccfc-3533-4f84-e7e0-5b190077219b"
      },
      "source": [
        "y_test.value_counts()"
      ],
      "execution_count": 58,
      "outputs": [
        {
          "output_type": "execute_result",
          "data": {
            "text/plain": [
              "0    65\n",
              "1    35\n",
              "Name: Purchased, dtype: int64"
            ]
          },
          "metadata": {
            "tags": []
          },
          "execution_count": 58
        }
      ]
    },
    {
      "cell_type": "markdown",
      "metadata": {
        "id": "-mNbc64RkZHZ"
      },
      "source": [
        "## Analysing the results"
      ]
    },
    {
      "cell_type": "code",
      "metadata": {
        "colab": {
          "base_uri": "https://localhost:8080/"
        },
        "id": "_o0EZVWdjfDg",
        "outputId": "0d7be305-3d62-4cee-db1f-561da33862f6"
      },
      "source": [
        "cm = confusion_matrix(y_test, pred)\n",
        "print(cm)"
      ],
      "execution_count": 59,
      "outputs": [
        {
          "output_type": "stream",
          "text": [
            "[[56  9]\n",
            " [ 1 34]]\n"
          ],
          "name": "stdout"
        }
      ]
    },
    {
      "cell_type": "code",
      "metadata": {
        "colab": {
          "base_uri": "https://localhost:8080/"
        },
        "id": "MN8dbOesjvAd",
        "outputId": "84e11d1c-4419-4ac6-d94c-cd4e7607108a"
      },
      "source": [
        "report = classification_report(y_test, pred,labels=[0,1])\n",
        "print(report)"
      ],
      "execution_count": 60,
      "outputs": [
        {
          "output_type": "stream",
          "text": [
            "              precision    recall  f1-score   support\n",
            "\n",
            "           0       0.98      0.86      0.92        65\n",
            "           1       0.79      0.97      0.87        35\n",
            "\n",
            "    accuracy                           0.90       100\n",
            "   macro avg       0.89      0.92      0.89       100\n",
            "weighted avg       0.92      0.90      0.90       100\n",
            "\n"
          ],
          "name": "stdout"
        }
      ]
    },
    {
      "cell_type": "code",
      "metadata": {
        "colab": {
          "base_uri": "https://localhost:8080/"
        },
        "id": "Gseb7mor9b0g",
        "outputId": "c45723be-7762-4de9-f977-ffc5cbfd40ad"
      },
      "source": [
        "print('Accuracy:\\t',accuracy_score(y_test,pred))"
      ],
      "execution_count": 61,
      "outputs": [
        {
          "output_type": "stream",
          "text": [
            "Accuracy:\t 0.9\n"
          ],
          "name": "stdout"
        }
      ]
    },
    {
      "cell_type": "markdown",
      "metadata": {
        "id": "ota3sHLh25Iw"
      },
      "source": [
        "# Ada Boost"
      ]
    },
    {
      "cell_type": "markdown",
      "metadata": {
        "id": "kA3Rbx8C2988"
      },
      "source": [
        "## Training and Testing the data"
      ]
    },
    {
      "cell_type": "code",
      "metadata": {
        "id": "0JJ1Lq6E3WcE"
      },
      "source": [
        "model = AdaBoostClassifier(random_state=101)\n",
        "lables = model.fit(X_train, y_train)"
      ],
      "execution_count": 62,
      "outputs": []
    },
    {
      "cell_type": "markdown",
      "metadata": {
        "id": "W06_OPef3CRq"
      },
      "source": [
        "## Analysing the result"
      ]
    },
    {
      "cell_type": "code",
      "metadata": {
        "colab": {
          "base_uri": "https://localhost:8080/"
        },
        "id": "kZ6aH6pf6WkM",
        "outputId": "bdaec66d-6d8b-4730-b6ac-550672bcfdb0"
      },
      "source": [
        "print('Accuracy:\\t',model.score(X_test,y_test))\n",
        "print('Estimators:\\t',model.n_estimators)\n",
        "print('Learning Rate:\\t',model.learning_rate)"
      ],
      "execution_count": 63,
      "outputs": [
        {
          "output_type": "stream",
          "text": [
            "Accuracy:\t 0.94\n",
            "Estimators:\t 50\n",
            "Learning Rate:\t 1.0\n"
          ],
          "name": "stdout"
        }
      ]
    }
  ]
}